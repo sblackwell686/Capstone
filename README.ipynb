{
 "cells": [
  {
   "cell_type": "markdown",
   "id": "cea2b4f0-6f67-4d5b-85ce-7068f291e5ef",
   "metadata": {},
   "source": [
    "<div style=\"float:left;\"><h1>Anaconda Notebooks</h1></div>\n",
    "<div style=\"float:right;\"><img width=\"300\" src=\"https://files.anaconda.com/production/company/Anaconda_Logo_RGB_Corporate.svg\" /></div>\n"
   ]
  },
  {
   "cell_type": "markdown",
   "id": "e78efc47-550f-41dc-8629-6cb0240e5676",
   "metadata": {},
   "source": [
    "Welcome to Anaconda Notebooks! Here, you can create and run interactive notebooks in a browser, from anywhere, immediately!"
   ]
  },
  {
   "cell_type": "markdown",
   "id": "ba9e1137-9ba2-4e72-99f5-6c4122f06a25",
   "metadata": {},
   "source": [
    "## Table of Contents\n",
    "\n",
    "- [About Anaconda Notebooks](#About-Anaconda-Notebooks)\n",
    "- [New to JupyterLab?](#New-to-JupyterLab?)\n",
    "- [Conda Environments](#Conda-Environments)\n",
    "- [Frequently Asked Questions](#Frequently-Asked-Questions)"
   ]
  },
  {
   "cell_type": "markdown",
   "id": "41e113fd-07dc-4f53-ae86-cf406771d17f",
   "metadata": {
    "tags": []
   },
   "source": [
    "## About Anaconda Notebooks"
   ]
  },
  {
   "cell_type": "markdown",
   "id": "fb1ddee2-f193-49dc-954e-664e6308297f",
   "metadata": {},
   "source": [
    "### What is Anaconda Notebooks?\n",
    "\n",
    "Anaconda Notebooks is a hosted [JupyterLab](https://jupyter.org/) service, powered by [PythonAnywhere](https://www.pythonanywhere.com/), that enables you to run JupyterLab notebooks reliably online. We take care of the installation, setup, and infrastructure management, so you can be productive right away. \n",
    "\n",
    "Also, by using a hosted notebook service, you can connect to your notebooks from anywhere and on any device with a browser!\n",
    "\n",
    "With your account you get:\n",
    "\n",
    "- A hosted JupyterLab instance running in a dedicated [JupyterHub](https://jupyter.org/hub) environment\n",
    "- Persistent cloud storage that can be used to store notebooks, environments, data, and more\n",
    "- An allotment of CPU seconds every day (see [FAQ](#Frequently-Asked-Questions) below)\n",
    "- Pre-configured conda environments with common data science packages \n",
    "- The ability to create your own custom environments"
   ]
  },
  {
   "cell_type": "markdown",
   "id": "d3f20af1-19ba-4620-ac33-e54e36f4337f",
   "metadata": {},
   "source": [
    "### How can I get help?\n",
    "\n",
    "Anaconda provides a number of resources should you need help:\n",
    "\n",
    "- We offer a catalog of courses through [Anaconda Learning](https://learning.anaconda.cloud) that are included in your subscription\n",
    "- Our [community forums](https://community.anaconda.cloud/c/product-help/notebooks) are full of useful content and people that can answer your questions\n",
    "- For non-technical requests (billing, login, etc.) you can [submit a ticket](https://support.anaconda.com/hc/en-us/requests/new?ticket_form_id=360006825553) to our user care team\n",
    "- Further information is available in our [documentation](https://docs.anaconda.com/free/anaconda-notebooks/index.html)"
   ]
  },
  {
   "cell_type": "markdown",
   "id": "b03376fe-3567-4360-9547-3dc2134389e2",
   "metadata": {
    "tags": []
   },
   "source": [
    "<div style=\"float:left;\"><h2>New to JupyterLab?</h2></div>\n",
    "<div style=\"float:right;\"><img height=\"65\" width=\"172\" src=\"https://jupyter.org/assets/logos/rectanglelogo-greytext-orangebody-greymoons.svg\" /></div>"
   ]
  },
  {
   "cell_type": "markdown",
   "id": "617a7fbc-db09-4936-a895-8b6d9feb1678",
   "metadata": {},
   "source": [
    "If you haven't used [Jupyter](https://jupyter.org) (Lab or Notebooks) before, read on to get started. "
   ]
  },
  {
   "cell_type": "markdown",
   "id": "34e402db-1f45-408f-b7bd-bc791a8f85ff",
   "metadata": {},
   "source": [
    "### The Notebook\n",
    "\n",
    "The document you're looking at now is actually a notebook! Notebooks, like this one, are made up of cells. Each cell can contain markdown (like this one), code, or raw text.\n",
    "\n",
    "You can click on a cell to select it, or use the arrow keys to move up and down through cells. \n",
    "\n",
    "For markdown cells, press **Enter/return** to edit the cell, then **Shift+Enter/return** to display it with formatting. Try that here: select this cell, press **Enter** to view the text in markdown, and then press **Shift+Enter** to display it again.\n",
    "\n",
    "Now for some code. The following cell contains a basic Python print statement. Select that cell and press **Shift+Enter** to run the code and see the output beneath it."
   ]
  },
  {
   "cell_type": "code",
   "execution_count": null,
   "id": "390bd122-0489-4807-98b7-3ec5eb37f9d1",
   "metadata": {},
   "outputs": [],
   "source": [
    "print(\"Welcome to Anaconda Notebooks!\")"
   ]
  },
  {
   "cell_type": "markdown",
   "id": "b3aedfd4-02cd-434e-9644-79181f436700",
   "metadata": {},
   "source": [
    "That's just the very basics, but if you want to learn more, try some of the tutorials at [Anaconda Learning](https://learning.anaconda.cloud)."
   ]
  },
  {
   "cell_type": "markdown",
   "id": "beb5a54b-35c4-4239-8e51-4bfc7606ca91",
   "metadata": {},
   "source": [
    "### The JupyterLab Interface\n",
    "\n",
    "If you'd like to learn more about the JupyterLab interface, refer to [Jupyterlab's Interface guide](https://jupyterlab.readthedocs.io/en/stable/user/interface.html) to learn the ins and outs of your interactive development environment (IDE)."
   ]
  },
  {
   "cell_type": "markdown",
   "id": "23acdf23-e2d9-4525-bcc0-09913d20446d",
   "metadata": {},
   "source": [
    "<div style=\"float:left;\"><h2>Conda Environments</h2></div>\n",
    "<div style=\"float:right;\"><img height=\"65\" width=\"172\" src=\"https://docs.conda.io/en/latest/_images/conda_logo.svg\" /></div>"
   ]
  },
  {
   "cell_type": "markdown",
   "id": "19980705-6972-4c90-845b-8564d11364a8",
   "metadata": {},
   "source": [
    "This service comes with conda pre-installed, along with \"batteries included\" environments to get you started."
   ]
  },
  {
   "cell_type": "markdown",
   "id": "46852bed-35d5-40ce-b07a-5072d036650c",
   "metadata": {},
   "source": [
    "### What are the \"batteries included\" environments?\n",
    "\n",
    "Since custom environments can take up a lot of your storage space, we've provided a number of read-only environments based on the Anaconda Distribution. You cannot add packages to these default environments, so you'll need to create a new environment if you wish to do so.\n",
    "\n",
    "The general naming convention is generally \"anaconda-\\<YEAR>.\\<MONTH>-py\\<PYTHON_VERSION>\" which maps to Anaconda Distribution releases. "
   ]
  },
  {
   "cell_type": "code",
   "execution_count": null,
   "id": "b3fc2a81-8548-48bc-a85d-61aeb11a17ad",
   "metadata": {},
   "outputs": [],
   "source": [
    "# Run this cell to see the list of environments available\n",
    "!conda env list"
   ]
  },
  {
   "cell_type": "markdown",
   "id": "8b83b0ba",
   "metadata": {},
   "source": [
    "Environments beginning with ``/opt/conda`` are read-only default environments."
   ]
  },
  {
   "cell_type": "code",
   "execution_count": null,
   "id": "d338ade4-0785-468c-a88b-2a2c4f67dc34",
   "metadata": {},
   "outputs": [],
   "source": [
    "# To see the list of packages in an environment, run this cell\n",
    "!conda list"
   ]
  },
  {
   "cell_type": "markdown",
   "id": "05bbdfbe-39a7-4bd6-b6cb-55ef3b204076",
   "metadata": {},
   "source": [
    "### Creating Custom Environments\n",
    "\n",
    "If you need a specific set of packages that are not included in one of our default environments, you can create your own.\n",
    "\n",
    "<span style=\"color:red\">**WARNING** Custom environments will use your personal storage space and can easily get quite large, so only include the packages you need.</span>\n",
    "\n",
    "To create a new environment, open a new terminal from the Anaconda Notebooks home page. Then, run the command below. You can even use the same command to specify the version of a package to install within your new environment by adding the package and version number to the end of the command."
   ]
  },
  {
   "cell_type": "code",
   "execution_count": null,
   "id": "d755426c",
   "metadata": {},
   "outputs": [],
   "source": [
    "# Run this command to create a custom environment running Python 3.9\n",
    "# ipykernel is required as well if you'd like to use the environment in a notebook\n",
    "!conda create --name <NAME_OF_ENVIRONMENT> python=3.9 ipykernel -y"
   ]
  },
  {
   "cell_type": "markdown",
   "id": "d6941af6",
   "metadata": {},
   "source": [
    "<span style=\"color:blue\">**INFO** Either the ipykernel or notebook package must be in your environment if you'd like to use it as a notebook kernel.</span>"
   ]
  },
  {
   "cell_type": "markdown",
   "id": "28bfba69-b384-456e-ac77-3e688fa2b214",
   "metadata": {},
   "source": [
    "It should take a minute or two for your environment to be created. Afterwards, the environment will appear in the **Select Kernel** modal (see Activating custom environments below) after roughly 30 seconds. You might need to close and reopen the README.ipynb or refresh the browser for the kernel to appear."
   ]
  },
  {
   "cell_type": "markdown",
   "id": "0beb6075-e054-42f5-b4ca-5b5caa434571",
   "metadata": {},
   "source": [
    "### Activating custom environments\n",
    "\n",
    "There are a couple ways to activate your environment:\n",
    "\n",
    "* Click the kernel at the top right of the notebook (\"anaconda-\\<YEAR>.\\<MONTH>-py\\<PYTHON_VERSION>\"), then switch to the kernel of the environment you created in the **Select Kernel** modal.\n",
    "* From the Launcher, select the notebook displaying your custom environment name."
   ]
  },
  {
   "cell_type": "markdown",
   "id": "abad4d52",
   "metadata": {},
   "source": [
    "### Installing packages\n",
    "\n",
    "You can then install any further packages you need by running the following:"
   ]
  },
  {
   "cell_type": "code",
   "execution_count": null,
   "id": "78f2d756",
   "metadata": {},
   "outputs": [],
   "source": [
    "!conda install <PACKAGE_NAME> -y"
   ]
  },
  {
   "cell_type": "markdown",
   "id": "375e4ad5-6d9a-4dae-861f-e98ffc0029ad",
   "metadata": {},
   "source": [
    "## Frequently Asked Questions"
   ]
  },
  {
   "cell_type": "markdown",
   "id": "0dc0934d-277d-4749-9f26-08cddb259dbb",
   "metadata": {
    "tags": []
   },
   "source": [
    "### My notebook is trying to import a package, but I'm getting an error\n",
    "\n",
    "The most common cause of errors is a lack of required package(s) installed in your environment. The default environment we provide, based on the Anaconda distribution, provides hundreds of the most common python packages for data science, but it doesn't include everything. You may need to create a custom environment to install the package you need."
   ]
  },
  {
   "cell_type": "markdown",
   "id": "dd1b4124-b0b8-46f0-b277-c3b56f867456",
   "metadata": {
    "tags": []
   },
   "source": [
    "Here are a couple of steps to help resolve this:\n",
    "\n",
    "#### Make sure you have the right kernel/environment selected \n",
    "\n",
    "The default `anaconda-<YEAR>.<MONTH>-py<PYTHON_VERSION>` environments have a broad selection of packages, but you may have created a custom environment for your notebook. Separate environments are represented as “kernels” in JupyterLab. You can view and switch between available kernels by clicking the kernel name in the upper-right corner of the content pane.\n",
    "    \n",
    "#### List the packages available in an environment\n",
    "\n",
    "You can see which packages are available in each environment in the terminal by running `conda env list` to list available environments and then `conda list -n <NAME_OF_ENVIRONMENT>` to see packages in that environment.\n",
    "\n",
    "**Note:** you can run those commands directly in a code cell within your notebook just by adding a “!” to the front of the command (e.g. `!conda env list`).\n",
    "\n",
    "#### Create a custom environment\n",
    "\n",
    "If none of your existing environments have the right package(s), either install the package into one of your custom environments with `conda install <PACKAGE>` or create a new custom conda environment with the right packages. See [Creating Custom Environments](#Creating-Custom-Environments) above for instructions.\n",
    "\n",
    "Once an environment is created, it will be available as a kernel for running your notebook.\n"
   ]
  },
  {
   "cell_type": "markdown",
   "id": "eac40e6a-bf8d-494f-a7f3-9159e3441a63",
   "metadata": {},
   "source": [
    "### Why isn't my custom environment showing up in the launcher/list of notebook kernels?\n",
    "\n",
    "The most common reason is that you don't have the `ipykernel` package in your environment, which is required to use an environment as a notebook kernel.\n",
    "\n",
    "You can check if that package is installed by following these steps: \n",
    "\n",
    "- Open a new Terminal from the launcher\n",
    "- run `conda list -n <NAME_OF_ENVIRONMENT>`\n",
    "- ensure that `ipykernel` is listed\n",
    "\n",
    "If not, you can easily install it with `conda install -n <NAME_OF_ENVIRONMENT> ipykernel`"
   ]
  },
  {
   "cell_type": "markdown",
   "id": "b25c45f7-60ae-4a3b-adf4-7dc431313b3f",
   "metadata": {},
   "source": [
    "### How do I upload a notebook to the service?\n",
    "\n",
    "In the Anaconda Notebooks JupyterLab interface, click the **Upload files** button in the File Browser to browse for a local .ipynb file. Then, click **Open**. The notebook will appear in the left-hand menu. \n",
    "\n",
    "You can also drag and drop a notebook from a folder on your system to the file browser to upload it."
   ]
  },
  {
   "cell_type": "markdown",
   "id": "f78f67bf-b59e-4e54-ac51-88648b62db1c",
   "metadata": {},
   "source": [
    "### How do I save a notebook?\n",
    "\n",
    "Like most IDEs or editors, JupyterLab has the standard \"Save\" and \"Save As…\" functions that will save a notebook in your directory on our platform. You can also download a notebook file from the File menu to save it locally."
   ]
  },
  {
   "cell_type": "markdown",
   "id": "69937f6a-2b5a-445e-9f69-5d2cd50073a5",
   "metadata": {},
   "source": [
    "### How do I share a notebook?\n",
    "\n",
    "For now, the easiest way to share a notebook is to download and then share it as you would any other file. However, a key feature on our near-term roadmap is the ability to share notebooks directly from our platform. Stay tuned!"
   ]
  },
  {
   "cell_type": "markdown",
   "id": "1ae90686-2c91-402b-b5ab-f92a54430fa0",
   "metadata": {
    "tags": []
   },
   "source": [
    "### What do I do if I run out of storage space/go over my quota?\n",
    "\n",
    "<span style=\"color:red\">**WARNING** Creating custom environments consumes a large amount of storage. Anaconda recommends free tier Notebooks users avoid custom environments.</span>\n",
    "\n",
    "You can check the status of your disk usage via the widget in the top right of the screen, which shows current usage as a percentage of the total space available.\n",
    "\n",
    "The option to upgrade your account and expand your storage is coming soon; for now, you will need to either upgrade your subscription or delete some items from your drive:\n",
    "\n",
    "#### Do you have any extra notebooks or directories you can remove?\n",
    "\n",
    "You can view and delete files from the File Browser in the upper left, or on the command line by launching a terminal.\n",
    "\n",
    "#### Do you have any custom conda environments? \n",
    "\n",
    "- Run `conda env list` and see if there are any environments **NOT** in `/opt/conda`. \n",
    "- If there are, you can remove those that you don’t need any more by running `conda env remove -n <NAME_OF_ENVIRONMENT>`.\n",
    "- Further, running `conda clean --all` will clean up the cache and some other artifacts."
   ]
  },
  {
   "cell_type": "markdown",
   "id": "5588445c-e379-41ae-9aa0-77803b5b76f6",
   "metadata": {},
   "source": [
    "### Are there memory limits on this service?\n",
    "\n",
    "On this service, each process is limited to 6GB of memory. If you exceed that, your process will be killed. If you have the need to run much larger processes, please contact Anaconda Sales."
   ]
  },
  {
   "cell_type": "markdown",
   "id": "20fed197-6cc1-4982-b363-308405ab601b",
   "metadata": {},
   "source": [
    "### What can I do if my notebook is running really slowly?\n",
    "\n",
    "You may have exceeded your CPU usage limit for the day. Our notebook instances have a limit for the maximum number of seconds fully utilizing the CPU. Once an instance hits that limit, it is not shut down, but instead given lower CPU priority and a limit to the amount of compute resources available. This limit is reset every day, so full compute access will be restored the next day.\n",
    "\n",
    "To see current progress towards your daily quota, reference the widget in the upper right of the interface that shows current CPU usage vs. the daily limit.\n",
    "\n",
    "To better manage your CPU usage, regularly check the **Running Terminals and Kernels** widget in the left sidebar to kill unnecessary kernels when you no longer need them."
   ]
  },
  {
   "cell_type": "markdown",
   "id": "f4200b79-338d-45bd-b789-a1af80cf2dd1",
   "metadata": {},
   "source": [
    "### I'm registered/signed in—why isn't Notebooks opening?\n",
    "\n",
    "Your browser's pop-up blocker (automatically enabled on Firefox and Safari) may have prevented Notebooks from opening. \n",
    "\n",
    "Disable your pop-up blocker and try opening Notebooks again from anaconda.cloud. "
   ]
  },
  {
   "cell_type": "markdown",
   "id": "9d9b0afa-a10f-4a98-b198-d89e21405058",
   "metadata": {},
   "source": [
    "### I have upgraded from the free tier to a paid tier, but I am unable to connect to certain websites. Why?\n",
    "\n",
    "Unrestricted internet access is only activated in new Notebooks processes. Therefore, Anaconda recommends restarting the kernel or starting a new notebook.\n",
    "\n",
    "Free tier users have access to the websites on [our allowlist](https://anaconda.cloud/free-tier-allowlist). "
   ]
  },
  {
   "cell_type": "code",
   "execution_count": null,
   "id": "8667217d-fd3c-470c-bda2-e225eae04da9",
   "metadata": {},
   "outputs": [],
   "source": []
  }
 ],
 "metadata": {
  "kernelspec": {
   "display_name": "Python 3 (ipykernel)",
   "language": "python",
   "name": "python3"
  },
  "language_info": {
   "codemirror_mode": {
    "name": "ipython",
    "version": 3
   },
   "file_extension": ".py",
   "mimetype": "text/x-python",
   "name": "python",
   "nbconvert_exporter": "python",
   "pygments_lexer": "ipython3",
   "version": "3.9.12"
  }
 },
 "nbformat": 4,
 "nbformat_minor": 5
}
